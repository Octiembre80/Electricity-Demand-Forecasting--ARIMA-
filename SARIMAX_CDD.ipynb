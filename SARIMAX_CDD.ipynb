{
 "cells": [
  {
   "cell_type": "code",
   "execution_count": 1,
   "metadata": {},
   "outputs": [
    {
     "name": "stderr",
     "output_type": "stream",
     "text": [
      "C:\\Users\\trevo\\Anaconda3\\lib\\site-packages\\statsmodels\\compat\\pandas.py:56: FutureWarning: The pandas.core.datetools module is deprecated and will be removed in a future version. Please use the pandas.tseries module instead.\n",
      "  from pandas.core import datetools\n"
     ]
    }
   ],
   "source": [
    "import pandas as pd\n",
    "from pandas.tseries.offsets import BDay\n",
    "import matplotlib.pyplot as plt\n",
    "import matplotlib.dates as mdates\n",
    "import numpy as np \n",
    "import sklearn as sk\n",
    "import seaborn as sns\n",
    "import statsmodels.api as sm \n",
    "import statsmodels.formula.api as smf\n",
    "import statsmodels.tsa.api as smt\n",
    "import itertools\n",
    "import warnings\n",
    "import scipy.signal as sp\n",
    "import math\n",
    "from statsmodels.tsa.stattools import acf, pacf\n",
    "from datetime import date, timedelta\n",
    "from dateutil.relativedelta import relativedelta\n",
    "import datetime\n",
    "import statistics\n",
    "from sklearn import linear_model"
   ]
  },
  {
   "cell_type": "code",
   "execution_count": null,
   "metadata": {},
   "outputs": [],
   "source": [
    "#build baseline equation\n",
    "total = pd.concat([demand2016])\n",
    "total = pd.merge(total,temp,how='inner', left_index=True, right_index=True)\n",
    "X1 = total.drop(['Total','Toronto'],axis = 1)\n",
    "Y =  total['Total']\n",
    "clf = linear_model.Lasso(alpha = 0.1) #.LinearRegression()\n",
    "clf.fit(X1, Y)\n",
    "print(clf.score(X1,Y))\n",
    "\n",
    "baseline = clf.coef_[0]*temp['CDD'] + clf.coef_[0]*temp['HDD'] + clf.intercept_\n",
    "\n",
    "\n",
    "\n",
    "plt.plot(demand2017['2017'])\n",
    "plt.plot(baseline['2017'])"
   ]
  },
  {
   "cell_type": "code",
   "execution_count": 2,
   "metadata": {},
   "outputs": [],
   "source": [
    "def convert_datetime(dTot):\n",
    "    \n",
    "    dTot['Date_Hour'] = pd.to_datetime(dTot.Date) + pd.to_timedelta(dTot.Hour, unit='h')\n",
    "    \n",
    "    \n",
    "    \n",
    "    dTot = dTot.drop(['Date','Hour'],axis = 1)\n",
    "    dTot = dTot.set_index('Date_Hour')\n",
    "    \n",
    "    return dTot"
   ]
  },
  {
   "cell_type": "code",
   "execution_count": 3,
   "metadata": {},
   "outputs": [
    {
     "name": "stdout",
     "output_type": "stream",
     "text": [
      "              Toronto       CDD     HDD\n",
      "datetime                               \n",
      "2012-10-02  14.247390  0.821158   0.000\n",
      "2012-10-03  14.176875  0.580000   0.000\n",
      "2012-10-04  15.067917  1.140000   0.000\n",
      "2012-10-05  16.216458  2.915000   0.000\n",
      "2012-10-06  15.725417  2.135000   0.000\n",
      "2012-10-07  10.197083  0.000000   2.820\n",
      "2012-10-08   6.796250  0.000000   7.600\n",
      "2012-10-09   6.735000  0.000000   7.105\n",
      "2012-10-10   9.305417  0.000000   4.270\n",
      "2012-10-11  11.011250  0.000000   3.300\n",
      "2012-10-12   6.651667  0.000000   6.625\n",
      "2012-10-13   7.841667  0.000000   5.945\n",
      "2012-10-14   4.308333  0.000000   9.765\n",
      "2012-10-15  12.561250  0.000000   0.885\n",
      "2012-10-16  12.780833  0.000000   1.850\n",
      "2012-10-17   7.649167  0.000000   6.015\n",
      "2012-10-18   8.604167  0.000000   4.775\n",
      "2012-10-19  11.895417  0.000000   1.315\n",
      "2012-10-20  10.315000  0.000000   3.160\n",
      "2012-10-21   9.593125  0.000000   4.180\n",
      "2012-10-22  11.098125  0.000000   1.785\n",
      "2012-10-23  11.051875  0.000000   1.605\n",
      "2012-10-24  10.771250  0.000000   2.640\n",
      "2012-10-25  10.002083  0.000000   3.950\n",
      "2012-10-26  13.392083  1.110000   0.000\n",
      "2012-10-27  12.958125  0.000000   1.035\n",
      "2012-10-28   8.130417  0.000000   5.525\n",
      "2012-10-29   6.162083  0.000000   7.535\n",
      "2012-10-30   4.565417  0.000000   8.965\n",
      "2012-10-31   8.368750  0.000000   6.130\n",
      "...               ...       ...     ...\n",
      "2017-11-01   5.006250  0.000000   8.430\n",
      "2017-11-02   9.369167  0.000000   4.170\n",
      "2017-11-03  10.964167  0.000000   2.795\n",
      "2017-11-04   4.162083  0.000000  10.090\n",
      "2017-11-05   9.243750  0.000000   4.395\n",
      "2017-11-06   9.745833  0.000000   3.785\n",
      "2017-11-07   4.672917  0.000000   9.555\n",
      "2017-11-08   3.793750  0.000000  10.110\n",
      "2017-11-09   3.414167  0.000000  10.050\n",
      "2017-11-10  -4.661250  0.000000  16.275\n",
      "2017-11-11  -4.755000  0.000000  18.010\n",
      "2017-11-12   1.885000  0.000000  11.895\n",
      "2017-11-13   3.568750  0.000000  10.510\n",
      "2017-11-14   4.410833  0.000000   9.300\n",
      "2017-11-15   3.727083  0.000000  10.405\n",
      "2017-11-16   6.280833  0.000000   8.085\n",
      "2017-11-17   0.070417  0.000000  13.795\n",
      "2017-11-18   4.498750  0.000000   9.890\n",
      "2017-11-19   3.305000  0.000000   9.890\n",
      "2017-11-20   0.572500  0.000000  12.200\n",
      "2017-11-21   6.896250  0.000000   6.300\n",
      "2017-11-22   2.058333  0.000000  10.390\n",
      "2017-11-23   0.129167  0.000000  13.295\n",
      "2017-11-24   4.646250  0.000000   8.465\n",
      "2017-11-25   8.172083  0.000000   5.900\n",
      "2017-11-26   1.823333  0.000000  10.795\n",
      "2017-11-27   2.044583  0.000000  11.910\n",
      "2017-11-28   4.432792  0.000000   7.205\n",
      "2017-11-29   8.061667  0.000000   5.675\n",
      "2017-11-30   1.360000  0.000000  12.640\n",
      "\n",
      "[1886 rows x 3 columns]\n"
     ]
    }
   ],
   "source": [
    "#weather normalize data\n",
    "\n",
    "#importanting weather data\n",
    "temp = pd.read_csv(\"temperature.csv\", usecols = [0,26], parse_dates=[\"datetime\"], index_col=\"datetime\")\n",
    "#convert to degrees celsius\n",
    "temp = temp - 273.15\n",
    "\n",
    "\n",
    "#calcualte HDD/CDD\n",
    "talpha = 14 #temp where correlation between temperature and demand inverts\n",
    "tbeta = 14\n",
    "\n",
    "temp['CDD'] = (((temp['Toronto'].resample('D').max()+temp['Toronto'].resample('D').min())/2-talpha))\n",
    "temp['HDD'] = ((tbeta-(temp['Toronto'].resample('D').max()+temp['Toronto'].resample('D').min())/2))\n",
    "temp.CDD[temp.CDD < 0] = 0\n",
    "temp.HDD[temp.HDD < 0] = 0\n",
    "\n",
    "print(temp['2012-10-02':].resample('D').mean())"
   ]
  },
  {
   "cell_type": "code",
   "execution_count": 4,
   "metadata": {},
   "outputs": [
    {
     "ename": "NameError",
     "evalue": "name 'demand2017' is not defined",
     "output_type": "error",
     "traceback": [
      "\u001b[1;31m---------------------------------------------------------------------------\u001b[0m",
      "\u001b[1;31mNameError\u001b[0m                                 Traceback (most recent call last)",
      "\u001b[1;32m<ipython-input-4-278d522ab9f6>\u001b[0m in \u001b[0;36m<module>\u001b[1;34m()\u001b[0m\n\u001b[0;32m      1\u001b[0m \u001b[1;31m#1 day ahead\u001b[0m\u001b[1;33m\u001b[0m\u001b[1;33m\u001b[0m\u001b[0m\n\u001b[0;32m      2\u001b[0m \u001b[0mforecast_length\u001b[0m \u001b[1;33m=\u001b[0m \u001b[1;36m1\u001b[0m\u001b[1;33m\u001b[0m\u001b[0m\n\u001b[1;32m----> 3\u001b[1;33m \u001b[0mprint\u001b[0m\u001b[1;33m(\u001b[0m\u001b[0mlen\u001b[0m\u001b[1;33m(\u001b[0m\u001b[0mdemand2017\u001b[0m\u001b[1;33m)\u001b[0m\u001b[1;33m)\u001b[0m\u001b[1;33m\u001b[0m\u001b[0m\n\u001b[0m",
      "\u001b[1;31mNameError\u001b[0m: name 'demand2017' is not defined"
     ]
    }
   ],
   "source": [
    "#1 day ahead\n",
    "forecast_length = 1\n",
    "print(len(demand2017))"
   ]
  },
  {
   "cell_type": "code",
   "execution_count": 5,
   "metadata": {},
   "outputs": [],
   "source": [
    "def test_model (train, test, i):\n",
    "\n",
    "    #convert by log\n",
    "    #print(train[i])\n",
    "    #print(test[i])\n",
    "    \n",
    "    #dTot_train_log = np.log(train[i]) # change\n",
    "   \n",
    "    #seasonal differencing\n",
    "    seasons = 12\n",
    "    #dTot_train_log_ewma = dTot_train_log - dTot_train_log.shift(seasons)\n",
    "    \n",
    "    #fit model\n",
    "    mod = sm.tsa.statespace.SARIMAX(train[i],\n",
    "                                    order=(1, 1, 0),\n",
    "                                    seasonal_order=(0, 0, 0, seasons),\n",
    "                                    enforce_stationarity=False,\n",
    "                                    enforce_invertibility=False)\n",
    "    results = mod.fit()\n",
    "\n",
    " \n",
    "    #forecast\n",
    "    forecast = pd.Series(results.get_forecast(steps = forecast_length).predicted_mean, copy = True)\n",
    "    #forecast_log_diff = pd.Series(results.get_forecast(steps = forecast_length).predicted_mean, copy = True)\n",
    "    #forecast_log_diff.index  = test[i].index #.resample('D').mean()\n",
    "    \n",
    "    #Remove differencing \n",
    "    #forecast_log =  forecast_log_diff + dTot_train_log.shift(seasons).iloc[len(train[i])-1] #try mean?\n",
    "    \n",
    "    #Remove log\n",
    "    #forecast =  pd.Series(np.exp(forecast_log), index=forecast_log.index)\n",
    "    \n",
    "    \n",
    "    #print(forecast)\n",
    "    #plt.plot(forecast)\n",
    "    #print(forecast)\n",
    "    #plt.plot(test[i])\n",
    "    #print(test[i])\n",
    "    #plt.legend(['Forecast','Test'])\n",
    "\n",
    "    #AIC = results.aic\n",
    "    #RMSE = (forecast - test[i].Total).abs()\n",
    "    #RMSE = math.sqrt((((forecast - test[i].Total)**2).mean())) \n",
    "\n",
    "    #print('AIC:')\n",
    "    #print(AIC)\n",
    "    #print('RMSE:')\n",
    "    #print(RMSE)\n",
    "\n",
    "    #plt.plot(dTot_train_log_ewma)\n",
    "    #Plot auto and partial correlation\n",
    "    #fig = plt.figure(figsize=(12,8))\n",
    "    #ax1 = fig.add_subplot()\n",
    "    #fig = sm.graphics.tsa.plot_acf(dTot_train_log_ewma, lags=40, ax=ax1)\n",
    "    #ax2 = fig.add_subplot()\n",
    "    #fig = sm.graphics.tsa.plot_pacf(dTot_train_log_ewma, lags=40, ax=ax2)\n",
    "\n",
    "    return forecast"
   ]
  },
  {
   "cell_type": "code",
   "execution_count": 6,
   "metadata": {},
   "outputs": [],
   "source": [
    "#Spilt into train/test\n",
    "train = []\n",
    "test = []\n",
    "results = []\n",
    "\n",
    "start = 0 #if 1 delete append 2017 in train, remember to change for loop length i.e 260 if 1\n",
    "\n",
    "ctr = start+forecast_length #forecast_length\n",
    "\n",
    "train.append(temp['2012-10-02':'2016-12-31'].CDD.resample('D').mean()) #,demand2017.iloc[0:130] summer only\n",
    "test.append(temp['2017':].CDD.resample('D').mean().iloc[[start]]) #[0:forecast_length]\n",
    "results.append(test_model(train,test,0))\n",
    "\n",
    "#int(round(260/forecast_length))\n",
    "\n",
    "for i in range(1,334): #(1,260) summer only\n",
    "    \n",
    "    train.append(train[i-1].append(test[i-1]))\n",
    "    test.append(temp['2017':].CDD.resample('D').mean().iloc[[ctr]])\n",
    "    ctr = ctr + forecast_length\n",
    "    results.append(test_model(train,test,i))\n",
    "    "
   ]
  },
  {
   "cell_type": "code",
   "execution_count": 10,
   "metadata": {},
   "outputs": [
    {
     "name": "stdout",
     "output_type": "stream",
     "text": [
      "1.4288914633756353\n",
      "0.7405252898100416\n"
     ]
    },
    {
     "data": {
      "image/png": "[encoded data removed]",
      "text/plain": [
       "<matplotlib.figure.Figure at 0x2884c45a128>"
      ]
     },
     "metadata": {},
     "output_type": "display_data"
    }
   ],
   "source": [
    "error = []\n",
    "\n",
    "for i in range(0,334):\n",
    "    \n",
    "    error.append((test[i] - results[i]).abs())\n",
    "    \n",
    "\n",
    "r1 = 1\n",
    "r2 = 364\n",
    "plt.ylabel('CDD (Celsius)')\n",
    "plt.xlabel('Day of Year')\n",
    "plt.title('SARIMA vs. Actual Weather Daily CDD 2017')\n",
    "plt.plot(results[r1:r2])\n",
    "plt.plot(test[r1:r2])\n",
    "plt.legend(['Forecast - 2017','Actual - 2017'])\n",
    "\n",
    "from sklearn.metrics import mean_squared_error\n",
    "from math import sqrt\n",
    "rms = sqrt(mean_squared_error(test[r1:r2], results[r1:r2]))\n",
    "print(rms)\n",
    "print(np.mean(error[r1:r2]))\n",
    "#print(error)"
   ]
  },
  {
   "cell_type": "code",
   "execution_count": 113,
   "metadata": {},
   "outputs": [],
   "source": [
    "pd.concat(results).to_csv('SARIMAX_CDD_Forecast')"
   ]
  },
  {
   "cell_type": "code",
   "execution_count": null,
   "metadata": {},
   "outputs": [],
   "source": []
  }
 ],
 "metadata": {
  "kernelspec": {
   "display_name": "Python 3",
   "language": "python",
   "name": "python3"
  },
  "language_info": {
   "codemirror_mode": {
    "name": "ipython",
    "version": 3
   },
   "file_extension": ".py",
   "mimetype": "text/x-python",
   "name": "python",
   "nbconvert_exporter": "python",
   "pygments_lexer": "ipython3",
   "version": "3.6.4"
  }
 },
 "nbformat": 4,
 "nbformat_minor": 2
}
